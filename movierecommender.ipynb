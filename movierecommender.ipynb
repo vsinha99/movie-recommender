{
 "cells": [
  {
   "cell_type": "code",
   "execution_count": 54,
   "metadata": {},
   "outputs": [
    {
     "data": {
      "text/plain": [
       "<lightfm.lightfm.LightFM at 0x14003f1a0>"
      ]
     },
     "execution_count": 54,
     "metadata": {},
     "output_type": "execute_result"
    }
   ],
   "source": [
    "import numpy as np\n",
    "import pandas as pd\n",
    "import requests\n",
    "from io import StringIO\n",
    "from lightfm import LightFM\n",
    "from scipy.sparse import coo_matrix\n",
    "\n",
    "# fetches MovieLens dataset from URL and formats it\n",
    "movies_url = 'http://files.grouplens.org/datasets/movielens/ml-100k/u.item'\n",
    "ratings_url = 'http://files.grouplens.org/datasets/movielens/ml-100k/u.data'\n",
    "\n",
    "# loads the movie titles\n",
    "response = requests.get(movies_url)\n",
    "movies_df = pd.read_csv(StringIO(response.text), sep='|', header=None, encoding='latin-1')\n",
    "movies_df.columns = ['movie_id', 'title', 'release_date', 'video_release_date', 'IMDb_URL', 'unknown', 'Action', 'Adventure', 'Animation', 'Children', 'Comedy', 'Crime', 'Documentary', 'Drama', 'Fantasy', 'Film-Noir', 'Horror', 'Musical', 'Mystery', 'Romance', 'Sci-Fi', 'Thriller', 'War', 'Western']\n",
    "\n",
    "# creates a dictionary mapping movie IDs to titles\n",
    "movie_id_to_title = pd.Series(movies_df.title.values, index=movies_df.movie_id).to_dict()\n",
    "\n",
    "# downloads and loads ratings data\n",
    "response = requests.get(ratings_url)\n",
    "ratings_df = pd.read_csv(StringIO(response.text), sep='\\t', header=None)\n",
    "ratings_df.columns = ['user_id', 'movie_id', 'rating', 'timestamp']\n",
    "\n",
    "# creates lightfm-compatible data\n",
    "n_users = ratings_df.user_id.max() + 1\n",
    "n_items = ratings_df.movie_id.max() + 1\n",
    "\n",
    "ratings_matrix = coo_matrix(\n",
    "    (ratings_df['rating'], (ratings_df['user_id'], ratings_df['movie_id'])),\n",
    "    shape=(n_users, n_items))\n",
    "\n",
    "# creates and trains the lightfm model\n",
    "model = LightFM(loss = 'warp')\n",
    "model.fit(ratings_matrix, epochs = 30, num_threads=2)"
   ]
  },
  {
   "cell_type": "code",
   "execution_count": 55,
   "metadata": {},
   "outputs": [],
   "source": [
    "# generates the recommendation function\n",
    "def sample_recommendation(model, ratings_matrix, user_ids):\n",
    "    n_users, n_items = ratings_matrix.shape\n",
    "\n",
    "    for user_id in user_ids:\n",
    "        # adds  known positive movies (movies that they already like)\n",
    "        known_positives_indices = ratings_matrix.tocsr()[user_id].indices\n",
    "        known_positives_titles = [movie_id_to_title.get(i, str(i)) for i in known_positives_indices]\n",
    "\n",
    "        # model predicts what movies the user will like\n",
    "        scores = model.predict(user_id, np.arange(n_items))\n",
    "\n",
    "        # ranks them in order of most liked to least liked\n",
    "        top_items_indices = np.argsort(-scores)\n",
    "        top_items_titles = [movie_id_to_title.get(i, str(i)) for i in top_items_indices]\n",
    "\n",
    "        # prints out result\n",
    "        print(f\"User {user_id}\")\n",
    "        print(\"     Known positives:\")\n",
    "        for title in known_positives_titles[:3]:\n",
    "            print(f\"        {title}\")\n",
    "\n",
    "        print(\"     Recommended:\")\n",
    "        for title in top_items_titles[:3]:\n",
    "            print(f\"        {title}\")\n",
    "\n"
   ]
  },
  {
   "cell_type": "code",
   "execution_count": 57,
   "metadata": {},
   "outputs": [
    {
     "name": "stdout",
     "output_type": "stream",
     "text": [
      "User 3\n",
      "     Known positives:\n",
      "        Return of the Jedi (1983)\n",
      "        Devil's Own, The (1997)\n",
      "        Contact (1997)\n",
      "     Recommended:\n",
      "        Air Force One (1997)\n",
      "        L.A. Confidential (1997)\n",
      "        Game, The (1997)\n",
      "User 25\n",
      "     Known positives:\n",
      "        Toy Story (1995)\n",
      "        Twelve Monkeys (1995)\n",
      "        Babe (1995)\n",
      "     Recommended:\n",
      "        Star Wars (1977)\n",
      "        Raiders of the Lost Ark (1981)\n",
      "        Return of the Jedi (1983)\n",
      "User 450\n",
      "     Known positives:\n",
      "        Toy Story (1995)\n",
      "        GoldenEye (1995)\n",
      "        Four Rooms (1995)\n",
      "     Recommended:\n",
      "        Forrest Gump (1994)\n",
      "        Dances with Wolves (1990)\n",
      "        When Harry Met Sally... (1989)\n"
     ]
    }
   ],
   "source": [
    "# example\n",
    "sample_recommendation(model, ratings_matrix, [3, 25, 450])"
   ]
  }
 ],
 "metadata": {
  "kernelspec": {
   "display_name": "base",
   "language": "python",
   "name": "python3"
  },
  "language_info": {
   "codemirror_mode": {
    "name": "ipython",
    "version": 3
   },
   "file_extension": ".py",
   "mimetype": "text/x-python",
   "name": "python",
   "nbconvert_exporter": "python",
   "pygments_lexer": "ipython3",
   "version": "3.12.4"
  }
 },
 "nbformat": 4,
 "nbformat_minor": 2
}
